{
 "cells": [
  {
   "cell_type": "markdown",
   "id": "d076d5c7",
   "metadata": {},
   "source": [
    "# Magnetic Field Map Model\n",
    "\n",
    "In this notebook we define a PyTorch model that we use to surrogate a magnetic field map. \n",
    "This assumes we already obtained training data in CSV format by wrapping the C++ GlueX magnetic field map with PHASM and then running the program with PHASM's capture mode.\n",
    "Next, we configure a simple model, train it, save it as TorchScript. Back in C++ land, PHASM loads the \n",
    "TorchScript model and uses it as a surrogate model."
   ]
  },
  {
   "cell_type": "code",
   "execution_count": 1,
   "id": "b0c0f659",
   "metadata": {
    "collapsed": true
   },
   "outputs": [],
   "source": [
    "import torch"
   ]
  },
  {
   "cell_type": "markdown",
   "id": "41cd0842",
   "metadata": {},
   "source": [
    "This next part is taken straight from a PyTorch tutorial example."
   ]
  },
  {
   "cell_type": "code",
   "execution_count": 4,
   "id": "26720985",
   "metadata": {},
   "outputs": [],
   "source": [
    "import torchvision\n",
    "\n",
    "# An instance of your model.\n",
    "model = torchvision.models.resnet18()\n",
    "\n",
    "# An example input you would normally provide to your model's forward() method.\n",
    "example = torch.rand(1, 3, 224, 224)\n",
    "\n",
    "# Use torch.jit.trace to generate a torch.jit.ScriptModule via tracing.\n",
    "traced_script_module = torch.jit.trace(model, example)\n",
    "\n",
    "# Evaluate just like any other PyTorch modules\n",
    "output = traced_script_module(torch.ones(1, 3, 224, 224))"
   ]
  },
  {
   "cell_type": "markdown",
   "id": "08bc335b",
   "metadata": {},
   "source": [
    "Now that we have a working TorchScript model, we can go ahead and save it. "
   ]
  },
  {
   "cell_type": "code",
   "execution_count": 7,
   "id": "da40c6fb",
   "metadata": {},
   "outputs": [],
   "source": [
    "traced_script_module.save(\"model.pt\")"
   ]
  },
  {
   "cell_type": "markdown",
   "id": "bb068844",
   "metadata": {},
   "source": [
    "## Sources\n",
    "\n",
    "- https://pytorch.org/tutorials/beginner/Intro_to_TorchScript_tutorial.html\n",
    "- https://pytorch.org/tutorials/advanced/cpp_export.html\n",
    "- https://pytorch.org/docs/stable/jit_language_reference.html#language-reference\n"
   ]
  }
 ],
 "metadata": {
  "kernelspec": {
   "display_name": "Python [conda env:neural_odes]",
   "language": "python",
   "name": "conda-env-neural_odes-py"
  },
  "language_info": {
   "codemirror_mode": {
    "name": "ipython",
    "version": 3
   },
   "file_extension": ".py",
   "mimetype": "text/x-python",
   "name": "python",
   "nbconvert_exporter": "python",
   "pygments_lexer": "ipython3",
   "version": "3.9.7"
  }
 },
 "nbformat": 4,
 "nbformat_minor": 5
}
