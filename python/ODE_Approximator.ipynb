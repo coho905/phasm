{
  "nbformat": 4,
  "nbformat_minor": 0,
  "metadata": {
    "colab": {
      "name": "ODE_Approximator.ipynb",
      "provenance": []
    },
    "kernelspec": {
      "name": "python3",
      "display_name": "Python 3"
    },
    "language_info": {
      "name": "python"
    }
  },
  "cells": [
    {
      "cell_type": "markdown",
      "source": [
        "\n",
        "\n",
        "```\n",
        "# Created by: Dhruv Bejugam\n",
        "# Last Updated on: 07/06/22\n",
        "# Summary: Simple ODE approximator created using documentation, inverse and loss-terms \n",
        "# Reference: \"Physics informed Deep Learning, Solutions of Nonlinear Partial Differential Equations\" by Isaac Elias Lagaris, \n",
        "# Aristidis Likas, and Dimitrios I. Fotiadis\n",
        "```\n",
        "\n"
      ],
      "metadata": {
        "id": "fW2C7iXvPrdJ"
      }
    },
    {
      "cell_type": "code",
      "execution_count": 16,
      "metadata": {
        "id": "XZO1VIaRgrg7"
      },
      "outputs": [],
      "source": [
        "# importing required packages\n",
        "import torch\n",
        "import torch.nn as nn\n",
        "import matplotlib.pyplot as plt\n",
        "import numpy as np"
      ]
    },
    {
      "cell_type": "code",
      "source": [
        "# defining the sequential neural network and its layers\n",
        "N = nn.Sequential(nn.Linear(1, 50), nn.Sigmoid(), nn.Linear(50,1, bias=False))"
      ],
      "metadata": {
        "id": "_MC1xQHNhxKd"
      },
      "execution_count": 17,
      "outputs": []
    },
    {
      "cell_type": "code",
      "source": [
        "# initial condition\n",
        "A = 0.\n",
        "\n",
        "# trial solution using initial condition, neural network, and input\n",
        "Psi_t = lambda x: A + x * N(x)\n",
        "\n",
        "# ODE trying to be approximated \n",
        "f = lambda x, Psi: torch.exp(-x / 5.0) * torch.cos(x) - Psi / 5.0"
      ],
      "metadata": {
        "id": "Ko8l9ytRh6eX"
      },
      "execution_count": 24,
      "outputs": []
    },
    {
      "cell_type": "code",
      "source": [
        "# loss function using gradient to minimize losses\n",
        "def loss(x):\n",
        "\n",
        "    x.requires_grad = True\n",
        "    outputs = Psi_t(x)\n",
        "    Psi_t_x = torch.autograd.grad(outputs, x, grad_outputs=torch.ones_like(outputs),\n",
        "                        create_graph=True)[0] # returns the sum of gradients of outputs with respect to the inputs\n",
        "\n",
        "    return  torch.mean( ( Psi_t_x - f(x, outputs) )  ** 2) # returns the mean value of all elements in the input tensor\n",
        "\n",
        "# L-BFGS optimizer to improve accuracy and reduce overall loss\n",
        "optimizer = torch.optim.LBFGS(N.parameters())"
      ],
      "metadata": {
        "id": "f4wcVybDkGVt"
      },
      "execution_count": 25,
      "outputs": []
    },
    {
      "cell_type": "code",
      "source": [
        "# establishing 'x' as tensor with 100 evenly spaced numbers from 0 to 4\n",
        "x = torch.Tensor(np.linspace(0, 4, 100)[:, None])\n",
        "\n",
        "# function that evaluates model and returns loss\n",
        "def closure():\n",
        "\n",
        "    optimizer.zero_grad()\n",
        "    l = loss(x)\n",
        "    l.backward() #backward propagation\n",
        "    print(l)\n",
        "    \n",
        "    return l\n",
        "\n",
        "# performing optimization of the model based on loss\n",
        "for i in range(10):\n",
        "    optimizer.step(closure)"
      ],
      "metadata": {
        "colab": {
          "base_uri": "https://localhost:8080/"
        },
        "id": "qm1iyd7sqYHH",
        "outputId": "f6f40562-c939-4406-e8f5-7be9240f6a1e"
      },
      "execution_count": 26,
      "outputs": [
        {
          "output_type": "stream",
          "name": "stdout",
          "text": [
            "tensor(0.3812, grad_fn=<MeanBackward0>)\n",
            "tensor(0.4623, grad_fn=<MeanBackward0>)\n",
            "tensor(0.1911, grad_fn=<MeanBackward0>)\n",
            "tensor(0.1845, grad_fn=<MeanBackward0>)\n",
            "tensor(0.0538, grad_fn=<MeanBackward0>)\n",
            "tensor(0.0264, grad_fn=<MeanBackward0>)\n",
            "tensor(0.0060, grad_fn=<MeanBackward0>)\n",
            "tensor(0.0037, grad_fn=<MeanBackward0>)\n",
            "tensor(0.0021, grad_fn=<MeanBackward0>)\n",
            "tensor(0.0021, grad_fn=<MeanBackward0>)\n",
            "tensor(0.0021, grad_fn=<MeanBackward0>)\n",
            "tensor(0.0021, grad_fn=<MeanBackward0>)\n",
            "tensor(0.0020, grad_fn=<MeanBackward0>)\n",
            "tensor(0.0018, grad_fn=<MeanBackward0>)\n",
            "tensor(0.0014, grad_fn=<MeanBackward0>)\n",
            "tensor(0.0009, grad_fn=<MeanBackward0>)\n",
            "tensor(0.0005, grad_fn=<MeanBackward0>)\n",
            "tensor(0.0004, grad_fn=<MeanBackward0>)\n",
            "tensor(0.0004, grad_fn=<MeanBackward0>)\n",
            "tensor(0.0004, grad_fn=<MeanBackward0>)\n",
            "tensor(0.0004, grad_fn=<MeanBackward0>)\n",
            "tensor(0.0004, grad_fn=<MeanBackward0>)\n",
            "tensor(0.0004, grad_fn=<MeanBackward0>)\n",
            "tensor(0.0004, grad_fn=<MeanBackward0>)\n",
            "tensor(0.0003, grad_fn=<MeanBackward0>)\n",
            "tensor(0.0046, grad_fn=<MeanBackward0>)\n",
            "tensor(0.0003, grad_fn=<MeanBackward0>)\n",
            "tensor(0.0003, grad_fn=<MeanBackward0>)\n",
            "tensor(0.0003, grad_fn=<MeanBackward0>)\n",
            "tensor(0.0002, grad_fn=<MeanBackward0>)\n",
            "tensor(0.0002, grad_fn=<MeanBackward0>)\n",
            "tensor(0.0001, grad_fn=<MeanBackward0>)\n",
            "tensor(0.0001, grad_fn=<MeanBackward0>)\n",
            "tensor(0.0001, grad_fn=<MeanBackward0>)\n",
            "tensor(9.2206e-05, grad_fn=<MeanBackward0>)\n",
            "tensor(8.6621e-05, grad_fn=<MeanBackward0>)\n",
            "tensor(7.2603e-05, grad_fn=<MeanBackward0>)\n",
            "tensor(6.6320e-05, grad_fn=<MeanBackward0>)\n",
            "tensor(5.5945e-05, grad_fn=<MeanBackward0>)\n",
            "tensor(4.9049e-05, grad_fn=<MeanBackward0>)\n",
            "tensor(4.4447e-05, grad_fn=<MeanBackward0>)\n",
            "tensor(4.1715e-05, grad_fn=<MeanBackward0>)\n",
            "tensor(3.9909e-05, grad_fn=<MeanBackward0>)\n",
            "tensor(3.8750e-05, grad_fn=<MeanBackward0>)\n",
            "tensor(3.7984e-05, grad_fn=<MeanBackward0>)\n",
            "tensor(3.7543e-05, grad_fn=<MeanBackward0>)\n",
            "tensor(3.7092e-05, grad_fn=<MeanBackward0>)\n",
            "tensor(3.5682e-05, grad_fn=<MeanBackward0>)\n",
            "tensor(3.3601e-05, grad_fn=<MeanBackward0>)\n",
            "tensor(2.8824e-05, grad_fn=<MeanBackward0>)\n",
            "tensor(3.0499e-05, grad_fn=<MeanBackward0>)\n",
            "tensor(2.3858e-05, grad_fn=<MeanBackward0>)\n",
            "tensor(1.7862e-05, grad_fn=<MeanBackward0>)\n",
            "tensor(1.4249e-05, grad_fn=<MeanBackward0>)\n",
            "tensor(1.2686e-05, grad_fn=<MeanBackward0>)\n",
            "tensor(1.2454e-05, grad_fn=<MeanBackward0>)\n",
            "tensor(1.2360e-05, grad_fn=<MeanBackward0>)\n",
            "tensor(1.2166e-05, grad_fn=<MeanBackward0>)\n",
            "tensor(1.1748e-05, grad_fn=<MeanBackward0>)\n",
            "tensor(1.1199e-05, grad_fn=<MeanBackward0>)\n",
            "tensor(1.0395e-05, grad_fn=<MeanBackward0>)\n",
            "tensor(7.7096e-06, grad_fn=<MeanBackward0>)\n",
            "tensor(8.0555e-06, grad_fn=<MeanBackward0>)\n",
            "tensor(5.4460e-06, grad_fn=<MeanBackward0>)\n",
            "tensor(4.9110e-06, grad_fn=<MeanBackward0>)\n",
            "tensor(4.4949e-06, grad_fn=<MeanBackward0>)\n",
            "tensor(3.5082e-06, grad_fn=<MeanBackward0>)\n",
            "tensor(2.7823e-06, grad_fn=<MeanBackward0>)\n",
            "tensor(2.9045e-06, grad_fn=<MeanBackward0>)\n",
            "tensor(2.2773e-06, grad_fn=<MeanBackward0>)\n",
            "tensor(2.0768e-06, grad_fn=<MeanBackward0>)\n",
            "tensor(2.2578e-06, grad_fn=<MeanBackward0>)\n",
            "tensor(1.8867e-06, grad_fn=<MeanBackward0>)\n",
            "tensor(1.8037e-06, grad_fn=<MeanBackward0>)\n",
            "tensor(1.8020e-06, grad_fn=<MeanBackward0>)\n",
            "tensor(1.5866e-06, grad_fn=<MeanBackward0>)\n",
            "tensor(1.4999e-06, grad_fn=<MeanBackward0>)\n",
            "tensor(1.4730e-06, grad_fn=<MeanBackward0>)\n",
            "tensor(1.2705e-06, grad_fn=<MeanBackward0>)\n",
            "tensor(1.1974e-06, grad_fn=<MeanBackward0>)\n",
            "tensor(1.4683e-06, grad_fn=<MeanBackward0>)\n",
            "tensor(1.1245e-06, grad_fn=<MeanBackward0>)\n",
            "tensor(1.0844e-06, grad_fn=<MeanBackward0>)\n",
            "tensor(1.1246e-06, grad_fn=<MeanBackward0>)\n",
            "tensor(1.0246e-06, grad_fn=<MeanBackward0>)\n",
            "tensor(9.9538e-07, grad_fn=<MeanBackward0>)\n",
            "tensor(1.1049e-06, grad_fn=<MeanBackward0>)\n",
            "tensor(9.6112e-07, grad_fn=<MeanBackward0>)\n",
            "tensor(9.4226e-07, grad_fn=<MeanBackward0>)\n",
            "tensor(9.9238e-07, grad_fn=<MeanBackward0>)\n",
            "tensor(9.1238e-07, grad_fn=<MeanBackward0>)\n",
            "tensor(8.9812e-07, grad_fn=<MeanBackward0>)\n",
            "tensor(9.1756e-07, grad_fn=<MeanBackward0>)\n",
            "tensor(8.7684e-07, grad_fn=<MeanBackward0>)\n",
            "tensor(8.6782e-07, grad_fn=<MeanBackward0>)\n",
            "tensor(8.6610e-07, grad_fn=<MeanBackward0>)\n",
            "tensor(8.5098e-07, grad_fn=<MeanBackward0>)\n",
            "tensor(8.4540e-07, grad_fn=<MeanBackward0>)\n",
            "tensor(8.3616e-07, grad_fn=<MeanBackward0>)\n",
            "tensor(8.3009e-07, grad_fn=<MeanBackward0>)\n",
            "tensor(8.2624e-07, grad_fn=<MeanBackward0>)\n",
            "tensor(8.2369e-07, grad_fn=<MeanBackward0>)\n",
            "tensor(8.2234e-07, grad_fn=<MeanBackward0>)\n",
            "tensor(8.2234e-07, grad_fn=<MeanBackward0>)\n",
            "tensor(8.2234e-07, grad_fn=<MeanBackward0>)\n",
            "tensor(8.2234e-07, grad_fn=<MeanBackward0>)\n",
            "tensor(8.2234e-07, grad_fn=<MeanBackward0>)\n"
          ]
        }
      ]
    },
    {
      "cell_type": "code",
      "source": [
        "# establishing 'xx' as the same value as 'x' for graphing purposes\n",
        "xx = np.linspace(0, 4, 100)[:, None]\n",
        "\n",
        "# establishing 'yy' as neural net output and 'yt' as true ODE y points\n",
        "with torch.no_grad():\n",
        "    yy = Psi_t(torch.Tensor(xx)).numpy()\n",
        "yt = np.exp(-xx / 5.0) * np.sin(xx)\n",
        "\n",
        "# graphing the true function compared to the neural network approximation\n",
        "fig, ax = plt.subplots(dpi=100)\n",
        "ax.plot(xx, yt, label='True')\n",
        "ax.plot(xx, yy, '--', label='Neural network approximation')\n",
        "ax.set_xlabel('$x$')\n",
        "ax.set_ylabel('$Psi(x)$')\n",
        "plt.legend(loc='best');"
      ],
      "metadata": {
        "colab": {
          "base_uri": "https://localhost:8080/",
          "height": 382
        },
        "id": "vD_m7ao2qufk",
        "outputId": "e9b491a4-2246-43b8-ea00-70eee0e4648c"
      },
      "execution_count": 27,
      "outputs": [
        {
          "output_type": "display_data",
          "data": {
            "text/plain": [
              "<Figure size 600x400 with 1 Axes>"
            ],
            "image/png": "[encoded data removed]"
          },
          "metadata": {
            "needs_background": "light"
          }
        }
      ]
    }
  ]
}