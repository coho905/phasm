{
  "nbformat": 4,
  "nbformat_minor": 0,
  "metadata": {
    "colab": {
      "name": "ODE_Approximator.ipynb",
      "provenance": []
    },
    "kernelspec": {
      "name": "python3",
      "display_name": "Python 3"
    },
    "language_info": {
      "name": "python"
    }
  },
  "cells": [
    {
      "cell_type": "markdown",
      "source": [
        "\n",
        "\n",
        "```\n",
        "# Created by: Dhruv Bejugam\n",
        "# Last Updated on: 07/11/22\n",
        "# Summary: Simple ODE approximator created using documentation, inverse and loss-terms \n",
        "# Reference: \"Physics informed Deep Learning, Solutions of Nonlinear Partial Differential Equations\" by Isaac Elias Lagaris, Aristidis Likas, and Dimitrios I. Fotiadis\n",
        "```\n",
        "\n"
      ],
      "metadata": {
        "id": "fW2C7iXvPrdJ"
      }
    },
    {
      "cell_type": "code",
      "execution_count": 2,
      "metadata": {
        "id": "XZO1VIaRgrg7"
      },
      "outputs": [],
      "source": [
        "# importing required packages\n",
        "import torch\n",
        "import torchvision\n",
        "import torch.nn as nn\n",
        "import matplotlib.pyplot as plt\n",
        "import numpy as np"
      ]
    },
    {
      "cell_type": "code",
      "source": [
        "# defining the sequential neural network and its layers\n",
        "N = nn.Sequential(nn.Linear(1, 50), nn.Sigmoid(), nn.Linear(50,1, bias=False))"
      ],
      "metadata": {
        "id": "_MC1xQHNhxKd"
      },
      "execution_count": 3,
      "outputs": []
    },
    {
      "cell_type": "code",
      "source": [
        "# initial condition\n",
        "A = 0.\n",
        "\n",
        "# trial solution using initial condition, neural network, and input\n",
        "Psi_t = lambda x: A + x * N(x)\n",
        "\n",
        "# ODE trying to be approximated \n",
        "f = lambda x, Psi: torch.exp(-x / 5.0) * torch.cos(x) - Psi / 5.0"
      ],
      "metadata": {
        "id": "Ko8l9ytRh6eX"
      },
      "execution_count": 4,
      "outputs": []
    },
    {
      "cell_type": "code",
      "source": [
        "# loss function using gradient to minimize losses\n",
        "def loss(x):\n",
        "\n",
        "    x.requires_grad = True\n",
        "    outputs = Psi_t(x)\n",
        "    Psi_t_x = torch.autograd.grad(outputs, x, grad_outputs=torch.ones_like(outputs),\n",
        "                        create_graph=True)[0] # returns the sum of gradients of outputs with respect to the inputs\n",
        "\n",
        "    return  torch.mean( ( Psi_t_x - f(x, outputs) )  ** 2) # returns the mean value of all elements in the input tensor\n",
        "\n",
        "# L-BFGS optimizer to improve accuracy and reduce overall loss\n",
        "optimizer = torch.optim.LBFGS(N.parameters())"
      ],
      "metadata": {
        "id": "f4wcVybDkGVt"
      },
      "execution_count": 5,
      "outputs": []
    },
    {
      "cell_type": "code",
      "source": [
        "# establishing 'x' as tensor with 100 evenly spaced numbers from 0 to 4\n",
        "x = torch.Tensor(np.linspace(0, 4, 100)[:, None])\n",
        "\n",
        "# function that evaluates model and returns loss\n",
        "def closure():\n",
        "\n",
        "    optimizer.zero_grad()\n",
        "    l = loss(x)\n",
        "    l.backward() #backward propagation\n",
        "    print(l)\n",
        "    \n",
        "    return l\n",
        "\n",
        "# performing optimization of the model based on loss\n",
        "for i in range(10):\n",
        "    optimizer.step(closure)"
      ],
      "metadata": {
        "colab": {
          "base_uri": "https://localhost:8080/"
        },
        "id": "qm1iyd7sqYHH",
        "outputId": "35f37825-33da-4732-feea-4b0481e4b2d2"
      },
      "execution_count": 6,
      "outputs": [
        {
          "output_type": "stream",
          "name": "stdout",
          "text": [
            "tensor(0.2710, grad_fn=<MeanBackward0>)\n",
            "tensor(0.6012, grad_fn=<MeanBackward0>)\n",
            "tensor(0.2009, grad_fn=<MeanBackward0>)\n",
            "tensor(0.1878, grad_fn=<MeanBackward0>)\n",
            "tensor(0.0268, grad_fn=<MeanBackward0>)\n",
            "tensor(0.0219, grad_fn=<MeanBackward0>)\n",
            "tensor(0.0216, grad_fn=<MeanBackward0>)\n",
            "tensor(0.0214, grad_fn=<MeanBackward0>)\n",
            "tensor(0.0205, grad_fn=<MeanBackward0>)\n",
            "tensor(0.0187, grad_fn=<MeanBackward0>)\n",
            "tensor(0.0145, grad_fn=<MeanBackward0>)\n",
            "tensor(0.0090, grad_fn=<MeanBackward0>)\n",
            "tensor(0.0070, grad_fn=<MeanBackward0>)\n",
            "tensor(0.0064, grad_fn=<MeanBackward0>)\n",
            "tensor(0.0063, grad_fn=<MeanBackward0>)\n",
            "tensor(0.0063, grad_fn=<MeanBackward0>)\n",
            "tensor(0.0062, grad_fn=<MeanBackward0>)\n",
            "tensor(0.0062, grad_fn=<MeanBackward0>)\n",
            "tensor(0.0060, grad_fn=<MeanBackward0>)\n",
            "tensor(0.0057, grad_fn=<MeanBackward0>)\n",
            "tensor(0.0051, grad_fn=<MeanBackward0>)\n",
            "tensor(0.0040, grad_fn=<MeanBackward0>)\n",
            "tensor(0.0031, grad_fn=<MeanBackward0>)\n",
            "tensor(0.0028, grad_fn=<MeanBackward0>)\n",
            "tensor(0.0023, grad_fn=<MeanBackward0>)\n",
            "tensor(0.0020, grad_fn=<MeanBackward0>)\n",
            "tensor(0.0040, grad_fn=<MeanBackward0>)\n",
            "tensor(0.0017, grad_fn=<MeanBackward0>)\n",
            "tensor(0.0016, grad_fn=<MeanBackward0>)\n",
            "tensor(1.2345, grad_fn=<MeanBackward0>)\n",
            "tensor(0.0016, grad_fn=<MeanBackward0>)\n",
            "tensor(0.0016, grad_fn=<MeanBackward0>)\n",
            "tensor(0.0015, grad_fn=<MeanBackward0>)\n",
            "tensor(0.0012, grad_fn=<MeanBackward0>)\n",
            "tensor(0.0011, grad_fn=<MeanBackward0>)\n",
            "tensor(0.0010, grad_fn=<MeanBackward0>)\n",
            "tensor(0.0008, grad_fn=<MeanBackward0>)\n",
            "tensor(0.0007, grad_fn=<MeanBackward0>)\n",
            "tensor(0.0005, grad_fn=<MeanBackward0>)\n",
            "tensor(0.0004, grad_fn=<MeanBackward0>)\n",
            "tensor(0.0003, grad_fn=<MeanBackward0>)\n",
            "tensor(0.0003, grad_fn=<MeanBackward0>)\n",
            "tensor(0.0002, grad_fn=<MeanBackward0>)\n",
            "tensor(0.0001, grad_fn=<MeanBackward0>)\n",
            "tensor(0.0004, grad_fn=<MeanBackward0>)\n",
            "tensor(8.2454e-05, grad_fn=<MeanBackward0>)\n",
            "tensor(6.3555e-05, grad_fn=<MeanBackward0>)\n",
            "tensor(0.0002, grad_fn=<MeanBackward0>)\n",
            "tensor(4.1051e-05, grad_fn=<MeanBackward0>)\n",
            "tensor(2.9015e-05, grad_fn=<MeanBackward0>)\n",
            "tensor(3.5499e-05, grad_fn=<MeanBackward0>)\n",
            "tensor(1.3959e-05, grad_fn=<MeanBackward0>)\n",
            "tensor(9.5894e-06, grad_fn=<MeanBackward0>)\n",
            "tensor(4.9041e-06, grad_fn=<MeanBackward0>)\n",
            "tensor(2.8413e-06, grad_fn=<MeanBackward0>)\n",
            "tensor(1.1611e-06, grad_fn=<MeanBackward0>)\n",
            "tensor(1.0629e-06, grad_fn=<MeanBackward0>)\n",
            "tensor(1.0579e-06, grad_fn=<MeanBackward0>)\n",
            "tensor(1.0534e-06, grad_fn=<MeanBackward0>)\n",
            "tensor(1.0514e-06, grad_fn=<MeanBackward0>)\n",
            "tensor(1.0331e-06, grad_fn=<MeanBackward0>)\n",
            "tensor(1.0043e-06, grad_fn=<MeanBackward0>)\n",
            "tensor(9.4176e-07, grad_fn=<MeanBackward0>)\n",
            "tensor(8.6651e-07, grad_fn=<MeanBackward0>)\n",
            "tensor(7.9784e-07, grad_fn=<MeanBackward0>)\n",
            "tensor(7.7715e-07, grad_fn=<MeanBackward0>)\n",
            "tensor(7.7642e-07, grad_fn=<MeanBackward0>)\n",
            "tensor(7.7642e-07, grad_fn=<MeanBackward0>)\n",
            "tensor(7.7642e-07, grad_fn=<MeanBackward0>)\n",
            "tensor(7.7642e-07, grad_fn=<MeanBackward0>)\n",
            "tensor(7.7642e-07, grad_fn=<MeanBackward0>)\n",
            "tensor(7.7642e-07, grad_fn=<MeanBackward0>)\n",
            "tensor(7.7642e-07, grad_fn=<MeanBackward0>)\n"
          ]
        }
      ]
    },
    {
      "cell_type": "code",
      "source": [
        "# establishing 'xx' as the same value as 'x' for graphing purposes\n",
        "xx = np.linspace(0, 4, 100)[:, None]\n",
        "\n",
        "# establishing 'yy' as neural net output and 'yt' as true ODE y points\n",
        "with torch.no_grad():\n",
        "    yy = Psi_t(torch.Tensor(xx)).numpy()\n",
        "yt = np.exp(-xx / 5.0) * np.sin(xx)\n",
        "\n",
        "# graphing the true function compared to the neural network approximation\n",
        "fig, ax = plt.subplots(dpi=100)\n",
        "ax.plot(xx, yt, label='True')\n",
        "ax.plot(xx, yy, '--', label='Neural network approximation')\n",
        "ax.set_xlabel('$x$')\n",
        "ax.set_ylabel('$Psi(x)$')\n",
        "plt.legend(loc='best');"
      ],
      "metadata": {
        "colab": {
          "base_uri": "https://localhost:8080/",
          "height": 382
        },
        "id": "vD_m7ao2qufk",
        "outputId": "13ad10e0-f610-4595-88f7-3d555496a937"
      },
      "execution_count": 7,
      "outputs": [
        {
          "output_type": "display_data",
          "data": {
            "text/plain": [
              "<Figure size 600x400 with 1 Axes>"
            ],
            "image/png": "[encoded data removed]"
          },
          "metadata": {
            "needs_background": "light"
          }
        }
      ]
    },
    {
      "cell_type": "code",
      "source": [
        "traced_script_module = torch.jit.trace(N, x)\n",
        "traced_script_module.save(\"ODE_Approximator.pt\")"
      ],
      "metadata": {
        "id": "LuxhbKctqjfa"
      },
      "execution_count": 10,
      "outputs": []
    }
  ]
}