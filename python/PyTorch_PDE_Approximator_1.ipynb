{
  "nbformat": 4,
  "nbformat_minor": 0,
  "metadata": {
    "colab": {
      "name": "PyTorch_PDE_Approximator#1",
      "provenance": [],
      "collapsed_sections": []
    },
    "kernelspec": {
      "name": "python3",
      "display_name": "Python 3"
    },
    "language_info": {
      "name": "python"
    }
  },
  "cells": [
    {
      "cell_type": "code",
      "source": [
        "# Created by: Dhruv Bejugam\n",
        "# Last Updated on: 07/21/22\n",
        "# Summary: PyTorch PDE Approximator created using previous implementation and research\n",
        "# References: \"Physics-informed neural networks: A deep learning framework for solving forward and inverse problems involving nonlinear partial differential equations\" By M.Raissi, P.Perdikaris, and G.E.Karniadakis + \"Physics-Informed-Neural-Networks\" by Siddesh Sambasivam"
      ],
      "metadata": {
        "id": "l_VNLXFocMkv"
      },
      "execution_count": null,
      "outputs": []
    },
    {
      "cell_type": "code",
      "execution_count": null,
      "metadata": {
        "id": "Z9gu-m7xjQgy",
        "colab": {
          "base_uri": "https://localhost:8080/"
        },
        "outputId": "719e6eed-aa16-4a53-97c1-552e2cc6a82c"
      },
      "outputs": [
        {
          "output_type": "execute_result",
          "data": {
            "text/plain": [
              "<torch._C.Generator at 0x7fe984140bd0>"
            ]
          },
          "metadata": {},
          "execution_count": 2
        }
      ],
      "source": [
        "# importing required packages\n",
        "from collections import OrderedDict\n",
        "from matplotlib import pyplot as plt\n",
        "import matplotlib\n",
        "import numpy as np\n",
        "import os\n",
        "from pylab import meshgrid\n",
        "import scipy.io\n",
        "import torch \n",
        "import torch.nn as nn\n",
        "import torch.nn.functional as F\n",
        "from tqdm import trange"
      ]
    },
    {
      "cell_type": "code",
      "source": [
        "# setting seed for generating random numbers\n",
        "seed = 3\n",
        "np.random.seed(seed)\n",
        "torch.manual_seed(seed)"
      ],
      "metadata": {
        "id": "j6q86SghXQSL"
      },
      "execution_count": null,
      "outputs": []
    },
    {
      "cell_type": "code",
      "source": [
        "# loading in data\n",
        "data_dict = scipy.io.loadmat(\"burgers_shock.mat\")\n",
        "\n",
        "# n_u is # of initial and boundary points, n_f is # of collocation points\n",
        "n_u, n_f = 100, 10000\n",
        "\n",
        "# setting data to variables\n",
        "x_data,t_data, u_data = data_dict['x'], data_dict['t'], data_dict['usol']\n",
        "x_data.shape, t_data.shape, u_data.shape"
      ],
      "metadata": {
        "id": "XWFttsbejfb3",
        "colab": {
          "base_uri": "https://localhost:8080/"
        },
        "outputId": "c4b35dad-ed8f-47e0-e1e4-e94cf02a3471"
      },
      "execution_count": null,
      "outputs": [
        {
          "output_type": "execute_result",
          "data": {
            "text/plain": [
              "((256, 1), (100, 1), (256, 100))"
            ]
          },
          "metadata": {},
          "execution_count": 5
        }
      ]
    },
    {
      "cell_type": "code",
      "source": [
        "# creating a rectangular grid out of 't_data' and 'x_data' one-dimensional arrays representing Cartesian or Matrix indexing\n",
        "u_t, u_x = meshgrid(t_data, x_data)\n",
        "u_t.shape, u_x.shape"
      ],
      "metadata": {
        "id": "z74MZtcTjkEj",
        "colab": {
          "base_uri": "https://localhost:8080/"
        },
        "outputId": "eeef15e2-4d3d-4795-e90e-bac03f29b19c"
      },
      "execution_count": null,
      "outputs": [
        {
          "output_type": "execute_result",
          "data": {
            "text/plain": [
              "((256, 100), (256, 100))"
            ]
          },
          "metadata": {},
          "execution_count": 6
        }
      ]
    },
    {
      "cell_type": "code",
      "source": [
        "# establishing variable as flattened 'u_data'\n",
        "u_data_transformed = u_data.flatten()[:, None] # (25600,1)\n",
        "\n",
        "# establishing variable as stack of flattened x and t data (in sequence horizontally)\n",
        "training_points = np.hstack((u_t.flatten()[:, None], u_x.flatten()[:, None])) # (25600, 2)"
      ],
      "metadata": {
        "id": "AyNzgxK0Wk8l"
      },
      "execution_count": null,
      "outputs": []
    },
    {
      "cell_type": "code",
      "source": [
        "IC_X, IC_Y = list(), list() # initial and boundary points\n",
        "CC_X, CC_Y = list(), list() # collocation points\n",
        "\n",
        "# going through points and adding points to respective lists\n",
        "for idx, sample in enumerate(training_points):\n",
        "    \n",
        "    t, x = sample\n",
        "    if t in [0,1] or x in [-1,1]: \n",
        "        IC_X.append(sample)\n",
        "        IC_Y.append(u_data_transformed[idx])\n",
        "    else:\n",
        "        CC_X.append(sample)\n",
        "        CC_Y.append(u_data_transformed[idx])\n",
        "        \n",
        "IC_X = np.array(IC_X)\n",
        "IC_Y = np.array(IC_Y)\n",
        "\n",
        "CC_X = np.array(CC_X)\n",
        "CC_Y = np.array(CC_Y)"
      ],
      "metadata": {
        "id": "p4yt-Zh-WxJR"
      },
      "execution_count": null,
      "outputs": []
    },
    {
      "cell_type": "code",
      "source": [
        "n_u_idx = list(np.random.choice(len(IC_X), n_u))\n",
        "n_f_idx = list(np.random.choice(len(CC_X), n_f))\n",
        "\n",
        "# setting points as tensors\n",
        "u_x = torch.tensor(IC_X[n_u_idx, 1:2], requires_grad=True).float()\n",
        "u_t = torch.tensor(IC_X[n_u_idx, 0:1], requires_grad=True).float()\n",
        "u_u = torch.tensor(IC_Y[n_u_idx, :], requires_grad=True).float()\n",
        "\n",
        "f_x = torch.tensor(CC_X[n_f_idx, 1:2], requires_grad=True).float()\n",
        "f_t = torch.tensor(CC_X[n_f_idx, 0:1], requires_grad=True).float()\n",
        "f_u = torch.tensor(CC_Y[n_f_idx, :], requires_grad=True).float()\n",
        "\n",
        "# establishing training data\n",
        "train_x = torch.cat((u_x, f_x), dim=0)\n",
        "train_t = torch.cat((u_t, f_t), dim=0)\n",
        "train_u = torch.cat((u_u, f_u), dim=0)"
      ],
      "metadata": {
        "id": "KS4TtStlXok-"
      },
      "execution_count": null,
      "outputs": []
    },
    {
      "cell_type": "code",
      "source": [
        "# establishing neural network class \n",
        "class PhysicsINN(nn.Module):\n",
        "    \n",
        "    def __init__(self, num_layers:int=2, num_neurons:int=20) -> None:\n",
        "        \n",
        "        super(PhysicsINN, self).__init__()\n",
        "        \n",
        "        self.num_layers = num_layers\n",
        "        self.num_neurons = num_neurons\n",
        "        \n",
        "        # Each hidden layer contained 20 neurons and a hyperbolic tangent activation function.\n",
        "        self.activation_func = torch.nn.Tanh\n",
        "        \n",
        "        ordered_layers = list()\n",
        "                \n",
        "        ordered_layers.append((\"input_layer\", nn.Linear(2, self.num_neurons)))\n",
        "        ordered_layers.append((\"input_activation\", self.activation_func()))\n",
        "        \n",
        "        # Create num_layers-2 linear layers with num_neuron neurons and tanh activation function\n",
        "        for i in range(self.num_layers-2):\n",
        "            \n",
        "            ordered_layers.append((\"layer_%d\" % (i+1), nn.Linear(self.num_neurons, self.num_neurons)))\n",
        "            ordered_layers.append((\"layer_%d_activation\" % (i+1), self.activation_func()))\n",
        "                        \n",
        "        ordered_layers.append((\"output_layer\", nn.Linear(self.num_neurons, 1)))\n",
        "        \n",
        "        self.net = nn.Sequential(OrderedDict(ordered_layers))    \n",
        "        \n",
        "        self.init_weights()\n",
        "\n",
        "    # initializing weights    \n",
        "    def init_weights(self, ) -> None:\n",
        "        for param in self.parameters():\n",
        "            if len(param.shape) >= 2: torch.nn.init.xavier_normal_(param, )\n",
        "            elif len(param.shape) == 1: torch.nn.init.zeros_(param)\n",
        "\n",
        "    # forward function    \n",
        "    def forward(self, inputs) -> torch.Tensor:\n",
        "        out = self.net(inputs)\n",
        "        return out \n",
        "\n",
        "# instantiating model \n",
        "model = PhysicsINN(4, 40)\n",
        "\n",
        "print(model)"
      ],
      "metadata": {
        "colab": {
          "base_uri": "https://localhost:8080/"
        },
        "id": "W7JvAMIiYAUB",
        "outputId": "e196420d-3baa-4d32-bb19-95dc076fc566"
      },
      "execution_count": null,
      "outputs": [
        {
          "output_type": "stream",
          "name": "stdout",
          "text": [
            "PhysicsINN(\n",
            "  (net): Sequential(\n",
            "    (input_layer): Linear(in_features=2, out_features=40, bias=True)\n",
            "    (input_activation): Tanh()\n",
            "    (layer_1): Linear(in_features=40, out_features=40, bias=True)\n",
            "    (layer_1_activation): Tanh()\n",
            "    (layer_2): Linear(in_features=40, out_features=40, bias=True)\n",
            "    (layer_2_activation): Tanh()\n",
            "    (output_layer): Linear(in_features=40, out_features=1, bias=True)\n",
            "  )\n",
            ")\n"
          ]
        }
      ]
    },
    {
      "cell_type": "code",
      "source": [
        "EPOCHS = 100\n",
        "optimizer = torch.optim.LBFGS(model.parameters())\n",
        "\n",
        "t_bar = trange(EPOCHS)\n",
        "\n",
        "# training model\n",
        "for epoch in t_bar:\n",
        "    \n",
        "    def closure():\n",
        "        optimizer.zero_grad()\n",
        "        \n",
        "        output = model(torch.cat((train_t, train_x), dim=1))\n",
        "        \n",
        "        u_grad_x =  torch.autograd.grad(output, train_x, retain_graph=True, create_graph=True, grad_outputs=torch.ones_like(output),allow_unused=True)[0]\n",
        "        u_grad_xx = torch.autograd.grad(u_grad_x, train_x, retain_graph=True, create_graph=True, grad_outputs=torch.ones_like(output),allow_unused=True)[0]\n",
        "        \n",
        "        u_grad_t = torch.autograd.grad(output, train_t, retain_graph=True, create_graph=True, grad_outputs=torch.ones_like(output),allow_unused=True)[0]\n",
        "        \n",
        "        f = u_grad_t + output*u_grad_x - (0.01/np.pi) * u_grad_xx\n",
        "        \n",
        "        mse_f = torch.mean(torch.square(f))\n",
        "        mse_u = torch.mean(torch.square(output - train_u))\n",
        "        \n",
        "        loss = mse_f + mse_u\n",
        "        \n",
        "        loss.backward()\n",
        "        \n",
        "        t_bar.set_description(\"loss: %.20f\" % loss.item())\n",
        "        t_bar.refresh() \n",
        "    \n",
        "        return loss\n",
        "    \n",
        "    optimizer.step(closure)"
      ],
      "metadata": {
        "colab": {
          "base_uri": "https://localhost:8080/"
        },
        "id": "S791kLb6b-XJ",
        "outputId": "ee6d1f51-60f3-4d13-8c2c-4cbe19ebfc5d"
      },
      "execution_count": null,
      "outputs": [
        {
          "output_type": "stream",
          "name": "stderr",
          "text": [
            "loss: 0.00033684953814372420: 100%|██████████| 100/100 [03:40<00:00,  2.20s/it]\n"
          ]
        }
      ]
    },
    {
      "cell_type": "code",
      "source": [
        "# getting plotting values\n",
        "test_X = [[], [], []]\n",
        "test_Y = [[], [], []]\n",
        "\n",
        "for idx, sample in enumerate(training_points):\n",
        "    \n",
        "    t, x = sample\n",
        "    if t == 0.33:\n",
        "        test_X[0].append(sample)\n",
        "        test_Y[0].append(u_data_transformed[idx])\n",
        "        \n",
        "    if t == 0.66:\n",
        "        test_X[1].append(sample)\n",
        "        test_Y[1].append(u_data_transformed[idx])        \n",
        "        \n",
        "    if t == 0.99:\n",
        "        test_X[2].append(sample)\n",
        "        test_Y[2].append(u_data_transformed[idx])"
      ],
      "metadata": {
        "id": "q-ZBDYZVcE6R"
      },
      "execution_count": null,
      "outputs": []
    },
    {
      "cell_type": "code",
      "source": [
        "# plotting the solution at different t values\n",
        "fig, axs = plt.subplots(1,3, sharey=True, figsize=(20,5))\n",
        "width = 6\n",
        "\n",
        "for i,t in enumerate([0.33, 0.66, 0.99]):\n",
        "    \n",
        "    axs[i].set_title(f\"$U(t,x)$ at t={t}\")\n",
        "    axs[i].plot(test_Y[i],  linewidth=width, label=\"ground truth\")\n",
        "    axs[i].plot(model(torch.tensor(test_X[i]).float()).detach().numpy(), \"r--\", linewidth=width, label='prediction')\n",
        "    axs[i].legend(loc='upper right')"
      ],
      "metadata": {
        "colab": {
          "base_uri": "https://localhost:8080/",
          "height": 393
        },
        "id": "O81S6SHkcNOQ",
        "outputId": "547a23f0-5c30-4984-a02e-700e52851206"
      },
      "execution_count": null,
      "outputs": [
        {
          "output_type": "stream",
          "name": "stderr",
          "text": [
            "/usr/local/lib/python3.7/dist-packages/ipykernel_launcher.py:8: UserWarning: Creating a tensor from a list of numpy.ndarrays is extremely slow. Please consider converting the list to a single numpy.ndarray with numpy.array() before converting to a tensor. (Triggered internally at  ../torch/csrc/utils/tensor_new.cpp:201.)\n",
            "  \n"
          ]
        },
        {
          "output_type": "display_data",
          "data": {
            "text/plain": [
              "<Figure size 1440x360 with 3 Axes>"
            ],
            "image/png": "[encoded data removed]"
          },
          "metadata": {
            "needs_background": "light"
          }
        }
      ]
    },
    {
      "cell_type": "code",
      "source": [
        "# saving model as TorchScript model for C++\n",
        "traced_script_module = torch.jit.trace(model, torch.cat((train_t, train_x), dim=1))\n",
        "traced_script_module.save(\"PyTorch_PDE_Approximator.pt\")"
      ],
      "metadata": {
        "id": "vmLXzDJUYNA-"
      },
      "execution_count": null,
      "outputs": []
    }
  ]
}